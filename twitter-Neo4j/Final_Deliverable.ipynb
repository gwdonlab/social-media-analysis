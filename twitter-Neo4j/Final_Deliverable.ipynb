{
 "cells": [
  {
   "cell_type": "markdown",
   "id": "07204668",
   "metadata": {},
   "source": [
    "First, we will import all the needed libraries"
   ]
  },
  {
   "cell_type": "code",
   "execution_count": null,
   "id": "c5167421",
   "metadata": {},
   "outputs": [],
   "source": [
    "from tweepy import OAuthHandler\n",
    "from tweepy import Client\n",
    "import tweepy\n",
    "import neo4j.time\n",
    "from py2neo import Node, Graph, Relationship\n",
    "import networks\n",
    "from datetime import datetime\n",
    "from creds import *"
   ]
  },
  {
   "cell_type": "markdown",
   "id": "fb6d502b",
   "metadata": {},
   "source": [
    "Next, we will import the API credentials. \\\n",
    "**access_token (Authentication Access Token):** Username of the Twitter account the request is made on behalf of \\\n",
    "**access_token_secret (Authentication Access Token Secret):** Password of the Twitter account the request is made on behalf of\\\n",
    "**consumer_key (Consumer API Key):** Username that represents your App when making API requests \\\n",
    "**consumer_secret (Consumer API Key Secret):** Password that represents your App when making API requests \\\n",
    "**bearer_token (Bearer Token):** Bearer Token authenticates requests on behalf of your developer App "
   ]
  },
  {
   "cell_type": "code",
   "execution_count": null,
   "id": "9aafae44",
   "metadata": {},
   "outputs": [],
   "source": [
    "consumer_key = consumer_api_key \n",
    "consumer_secret = consumer_api_key_secret\n",
    "bearer = bearer_token\n",
    "access_token = authentication_access_token\n",
    "access_token_secret = authentication_access_token_secret"
   ]
  },
  {
   "cell_type": "code",
   "execution_count": null,
   "id": "10273354",
   "metadata": {},
   "outputs": [],
   "source": [
    "client = Client(bearer_token=bearer) # creating client for our developer app\n",
    "auth = tweepy.OAuthHandler(consumer_key, consumer_secret) \n",
    "auth.set_access_token(access_token, access_token_secret)\n",
    "api = tweepy.API(auth) # creating an endpoint for our twitter account to access the api"
   ]
  },
  {
   "cell_type": "markdown",
   "id": "95616218",
   "metadata": {},
   "source": [
    "Here, we will define methods that will help with cleaning up the results from our querying of the API and insertion of the Tweet data into a Neo4J graph. We can even  calculate each account's age, which is an important metric for detecting potential fake accounts. This link to the documentation for datetimes in Neo4J will explain  the approach for making the dates retrieved from Twitter compatible for querying within Neo4J."
   ]
  },
  {
   "cell_type": "code",
   "execution_count": null,
   "id": "373d1aa9",
   "metadata": {},
   "outputs": [],
   "source": [
    "def get_tweet_attributes(tweet_id, attributes):\n",
    "    \"\"\"Returns the attributes of a particular tweet\n",
    "    \n",
    "    tweet_id:  string or integer representation of the tweet's ID\n",
    "    attributes: list of desired attributes\n",
    "    \"\"\"\n",
    "    tweet = api.get_status(str(tweet_id))\n",
    "    i = 0\n",
    "    for a in attributes:\n",
    "        print(attributes[i],\": \",getattr(tweet, a))\n",
    "        i += 1\n",
    "    return 0\n",
    "        \n",
    "def get_author_attributes(author_id, attributes):\n",
    "    \"\"\"Returns the attributes of a particular tweet\n",
    "    \n",
    "    author_id:  string or integer representation of the tweet's ID\n",
    "    attributes: list of desired attributes\n",
    "    \"\"\"\n",
    "    author = api.get_user(user_id=author_id)\n",
    "    \n",
    "    created = datetime.fromisoformat(author.created_at.strftime(\"%Y-%m-%d\"))\n",
    "    today = datetime.fromisoformat(datetime.now().strftime(\"%Y-%m-%d\"))\n",
    "    accountAge = (today - created).days\n",
    "    \n",
    "    i = 0\n",
    "    for a in attributes:\n",
    "        print(attributes[i],\": \",getattr(author, a))\n",
    "        i += 1\n",
    "    print(\"account_age (at time of querying): \", accountAge, \"days\")\n",
    "    return 0\n",
    "\n",
    "\n",
    "\n",
    "def create_tweet_node(graph, tweet_id, tweet_attributes):\n",
    "    \n",
    "    tweet = api.get_status(str(tweet_id))\n",
    "    author_id = tweet.author.id\n",
    "    author = api.get_user(user_id=author_id)\n",
    "    \n",
    "    tweet_created = datetime.fromisoformat(tweet.created_at.strftime(\"%Y-%m-%d\"))\n",
    "    \n",
    "    \n",
    "    \n",
    "    \n",
    "# def create_author_node()"
   ]
  },
  {
   "cell_type": "markdown",
   "id": "87a322aa",
   "metadata": {},
   "source": [
    "Now, let's explore what attributes we can get about each tweet and author by using the dir() command. We will use a random tweet's ID from a previous query to do this."
   ]
  },
  {
   "cell_type": "code",
   "execution_count": null,
   "id": "384b7780",
   "metadata": {},
   "outputs": [],
   "source": [
    "tweet_id = 1519034348833587204\n",
    "tweet = api.get_status(tweet_id)\n",
    "print(\"Possible Tweet Attributes: \\n\\n\",dir(tweet),'\\n\\n')\n",
    "\n",
    "author_id = tweet.author.id\n",
    "author = api.get_user(user_id=author_id)\n",
    "print(\"Possible Author Attributes: \\n\\n\",dir(author))"
   ]
  },
  {
   "cell_type": "markdown",
   "id": "d77583b1",
   "metadata": {},
   "source": [
    "Now, we define the attributes that we would like to obtain from querying the API. First, however, we must choose a topic for our query. You can addd in your own fields as you see fit. For an idea of what fields are available, check out the link here: https://developer.twitter.com/en/docs/twitter-api/fields. \\\n",
    "After getting our response from the client, we select the tweet attributes that we want to extract from the tweets we have retrieved."
   ]
  },
  {
   "cell_type": "code",
   "execution_count": null,
   "id": "8c5fe3ea",
   "metadata": {},
   "outputs": [],
   "source": [
    "query = 'ukraine'\n",
    "response = client.search_recent_tweets(query=query,\n",
    "                                       max_results=100,\n",
    "                                       tweet_fields=['id',\n",
    "                                                     'author_id',\n",
    "                                                     'referenced_tweets'])\n",
    "# Type in your desired tweet attributes from the list of tweet attributes above\n",
    "tweet_attributes = ['id',\n",
    "                    'created_at',\n",
    "                    'favorite_count',\n",
    "                    'lang',\n",
    "                    'geo',\n",
    "                    'place',\n",
    "                    'retweet_count',\n",
    "                    'source_url',\n",
    "                    'text',\n",
    "                    'entities']\n",
    "\n",
    "# Type in your desired author attributes from the list of author attributes above\n",
    "author_attributes = ['name',\n",
    "                     'id',\n",
    "                     'created_at',\n",
    "                     'time_zone',\n",
    "                     'protected',\n",
    "                     'lang',\n",
    "                     'followers_count',\n",
    "                     'friends_count']"
   ]
  },
  {
   "cell_type": "markdown",
   "id": "aea535d8",
   "metadata": {},
   "source": [
    "Below, we print each tweet we have retrieved to get an idea of what information we have retrieved. Seems like we have a lot of useful information- enough to even create a graph Database to visualize relationships.  \\\n",
    "\\\n",
    "Quick note that every supported languages' language code can be found here: https://developer.twitter.com/en/docs/twitter-for-websites/supported-languages."
   ]
  },
  {
   "cell_type": "code",
   "execution_count": null,
   "id": "cc51e324",
   "metadata": {},
   "outputs": [],
   "source": [
    "for i in response.data:\n",
    "    print(\"Author \\n\")\n",
    "    print(\"*\"*15)\n",
    "    get_author_attributes(i.author_id, author_attributes)\n",
    "    print(\"\\nTweet\\n\")\n",
    "    print(\"*\"*15)\n",
    "    get_tweet_attributes(i.id, tweet_attributes)\n",
    "    if i.referenced_tweets is not None:\n",
    "        print(i.referenced_tweets[0].get(\"type\"), i.referenced_tweets[0].get(\"id\"))    \n",
    "    print(\"-\" * 30)"
   ]
  },
  {
   "cell_type": "markdown",
   "id": "af14dfa5",
   "metadata": {},
   "source": [
    "Note that the code below is quite monolithic and is not as efficient as it could be. This is an initial, brute force approach to creating a graph with nodes along with their authors and referenced tweets. It accomplishes the goal, but it can definitely be cleaned up.  For instance, there can be separate methods for creating nodes for tweets while handling referenced tweets, nodes for authors, relationships, and calculating account age."
   ]
  },
  {
   "cell_type": "code",
   "execution_count": null,
   "id": "c51bc06c",
   "metadata": {},
   "outputs": [],
   "source": [
    "graph  = Graph(\"bolt://localhost:7687\", user=\"neo4j\", password=\"password1\")\n",
    "tweets = []\n",
    "authors = []\n",
    "counter = 0\n",
    "for i in response.data:\n",
    "    # Creating tweet node\n",
    "    tweets.append(Node(\"tweet\", \n",
    "                       tweetID= i.id,\n",
    "                       authorID= i.author_id,\n",
    "                       text=i.text,\n",
    "                       ReferencedTweets=str(i.referenced_tweets)\n",
    "                      ))\n",
    "    # Creating author node\n",
    "    author = api.get_user(user_id=i.author_id)\n",
    "    created = datetime.fromisoformat(author.created_at.strftime(\"%Y-%m-%d\"))\n",
    "    today = datetime.fromisoformat(datetime.now().strftime(\"%Y-%m-%d\"))\n",
    "    accountAge = (today - created).days\n",
    "    authors.append(Node(\"author\",\n",
    "                        authorID=author.id,\n",
    "                        username=author.name,\n",
    "#                         created_at=author.created_at,\n",
    "                        time_zone=author.time_zone,\n",
    "                        protected=author.protected,\n",
    "                        language=author.lang,\n",
    "                        follower_count=author.followers_count,\n",
    "                        account_age=accountAge))\n",
    "    graph.create(authors[counter])\n",
    "    authored = Relationship(authors[counter], \"tweeted\", tweets[counter])\n",
    "    graph.create(authored)\n",
    "    # Dealing with the tweet that is being  referenced by our current tweet\n",
    "    if i.referenced_tweets is not None:\n",
    "        ref_id = i.referenced_tweets[0].get(\"id\")\n",
    "        ref_type = i.referenced_tweets[0].get(\"type\")\n",
    "        tweet = api.get_status(str(ref_id))\n",
    "        tweets[counter][ref_type] = ref_id\n",
    "        referenced = Node(\"tweet\",\n",
    "                       tweetID= ref_id,\n",
    "                       authorID = tweet.author.id,\n",
    "                       text=tweet.text)\n",
    "        graph.create(tweets[counter])\n",
    "        graph.create(referenced)\n",
    "        relationship = Relationship(tweets[counter], ref_type, referenced)\n",
    "        graph.create(relationship)\n",
    "        # Create author node for referenced tweet.\n",
    "        ref_author = api.get_user(user_id=tweet.author.id)\n",
    "        created = datetime.fromisoformat(author.created_at.strftime(\"%Y-%m-%d\"))\n",
    "        today = datetime.fromisoformat(datetime.now().strftime(\"%Y-%m-%d\"))\n",
    "        accountAge = (today - created).days\n",
    "        ref_author_node = (Node(\"author\",\n",
    "                          authorID=ref_author.id,\n",
    "                          username=ref_author.name,\n",
    "                          time_zone=ref_author.time_zone,\n",
    "                          protected=ref_author.protected,\n",
    "                          language=ref_author.lang,\n",
    "                          follower_count=ref_author.followers_count,\n",
    "                          account_age=accountAge))\n",
    "        graph.create(ref_author_node)\n",
    "        ref_relationship = Relationship(ref_author_node, \"tweeted\", referenced)\n",
    "        graph.create(ref_relationship)\n",
    "    else:\n",
    "        graph.create(tweets[counter])\n",
    "    counter += 1"
   ]
  },
  {
   "cell_type": "code",
   "execution_count": null,
   "id": "380ce187",
   "metadata": {},
   "outputs": [],
   "source": [
    "if response.data[0].referenced_tweets is not None:\n",
    "    print(response.data[0].referenced_tweets[0].get(\"id\"))\n",
    "    print(response.data[0].referenced_tweets[0].get(\"type\"))"
   ]
  }
 ],
 "metadata": {
  "kernelspec": {
   "display_name": "Python 3",
   "language": "python",
   "name": "python3"
  },
  "language_info": {
   "codemirror_mode": {
    "name": "ipython",
    "version": 3
   },
   "file_extension": ".py",
   "mimetype": "text/x-python",
   "name": "python",
   "nbconvert_exporter": "python",
   "pygments_lexer": "ipython3",
   "version": "3.8.8"
  }
 },
 "nbformat": 4,
 "nbformat_minor": 5
}
