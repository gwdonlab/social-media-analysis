{
 "cells": [
  {
   "cell_type": "code",
   "execution_count": null,
   "id": "955e16b3",
   "metadata": {},
   "outputs": [],
   "source": [
    "### This code scrapes instagram for posts containing a specificied hashtag, and outputs a json document containing the info about the posts it scraped. Ensure that the necessry libraries are installed and updated.\n",
    "### And wherever asked, input the necessary text. \n",
    "### Be mindful when running this code,too many requests can cause Instagram to block your account. So it is advised\n",
    "### to use a dummy IG account."
   ]
  },
  {
   "cell_type": "markdown",
   "id": "9c93ad8b",
   "metadata": {},
   "source": [
    "### installing necessary libraries"
   ]
  },
  {
   "cell_type": "code",
   "execution_count": 1,
   "id": "b5905690",
   "metadata": {},
   "outputs": [],
   "source": [
    "# imports used in Selenium\n",
    "from selenium import webdriver\n",
    "from selenium.common.exceptions import TimeoutException\n",
    "from selenium.webdriver.support.ui import WebDriverWait\n",
    "from selenium.webdriver.support import expected_conditions as EC\n",
    "from selenium.webdriver.common.by import By\n",
    "from selenium.common.exceptions import NoSuchElementException, StaleElementReferenceException\n",
    "from selenium.webdriver.common.keys import Keys\n",
    "#time\n",
    "from time import sleep\n",
    "import time"
   ]
  },
  {
   "cell_type": "markdown",
   "id": "7b878be8",
   "metadata": {},
   "source": [
    "### logging into instagram"
   ]
  },
  {
   "cell_type": "code",
   "execution_count": null,
   "id": "7ca56423",
   "metadata": {},
   "outputs": [],
   "source": [
    "s=Service('') # input file path for installed chromedriver\n",
    "driver = webdriver.Chrome(service=s) \n",
    "driver.get(\"https://www.instagram.com\")"
   ]
  },
  {
   "cell_type": "code",
   "execution_count": null,
   "id": "4bb0c998",
   "metadata": {},
   "outputs": [],
   "source": [
    "username = WebDriverWait(driver,10).until(EC.element_to_be_clickable((By.CSS_SELECTOR,\"input[name='username']\")))\n",
    "password = WebDriverWait(driver,10).until(EC.element_to_be_clickable((By.CSS_SELECTOR,\"input[name='password']\")))"
   ]
  },
  {
   "cell_type": "code",
   "execution_count": null,
   "id": "f421db71",
   "metadata": {},
   "outputs": [],
   "source": [
    "username.clear()\n",
    "password.clear()\n",
    "username.send_keys(\"\") # put your IG username\n",
    "password.send_keys(\"\") # put your IG password"
   ]
  },
  {
   "cell_type": "code",
   "execution_count": null,
   "id": "bd6b9aca",
   "metadata": {},
   "outputs": [],
   "source": [
    "log_in = WebDriverWait(driver,10).until(EC.element_to_be_clickable((By.CSS_SELECTOR,\"button[type='submit']\"))).click()"
   ]
  },
  {
   "cell_type": "code",
   "execution_count": null,
   "id": "68196853",
   "metadata": {},
   "outputs": [],
   "source": [
    "not_now = WebDriverWait(driver,10).until(EC.element_to_be_clickable((By.XPATH,\"//button[contains(text(),'Not Now')]\"))).click()\n",
    "\n",
    "not_now2 = WebDriverWait(driver,10).until(EC.element_to_be_clickable((By.XPATH,\"//button[contains(text(),'Not Now')]\"))).click()"
   ]
  },
  {
   "cell_type": "code",
   "execution_count": null,
   "id": "32e91500",
   "metadata": {},
   "outputs": [],
   "source": [
    "hashtag='' # input hashtag you want to search for\n",
    "\n",
    "driver.get(\"https://www.instagram.com/explore/tags/\"+hashtag)"
   ]
  },
  {
   "cell_type": "markdown",
   "id": "435d6489",
   "metadata": {},
   "source": [
    "### scraping posts "
   ]
  },
  {
   "cell_type": "code",
   "execution_count": null,
   "id": "63e8d7d2",
   "metadata": {},
   "outputs": [],
   "source": [
    "# depending on how many posts you want to scrape you increase the scoll height/add more scrollbys or putting the scrollby function through a loop\n",
    "driver.execute_script(\"window.scrollBy(0,1000000)\")\n",
    "time.sleep(5)\n",
    "driver.execute_script(\"window.scrollBy(0,1000000)\")\n",
    "time.sleep(5)\n",
    "driver.execute_script(\"window.scrollBy(0,1000000)\")\n",
    "time.sleep(5)\n",
    "driver.execute_script(\"window.scrollBy(0,1000000)\")\n",
    "time.sleep(5)\n",
    "driver.execute_script(\"window.scrollBy(0,1000000)\")\n",
    "time.sleep(5)\n",
    "driver.execute_script(\"window.scrollBy(0,1000000)\")\n",
    "time.sleep(5)\n",
    "driver.execute_script(\"window.scrollBy(0,1000000)\")\n",
    "time.sleep(5)"
   ]
  },
  {
   "cell_type": "code",
   "execution_count": null,
   "id": "8525960b",
   "metadata": {},
   "outputs": [],
   "source": [
    "source = driver.page_source\n",
    "data=bs(source, 'html.parser')\n",
    "body = data.find('body')\n",
    "script = body.find('script', text=lambda t: t.startswith('window._sharedData'))\n",
    "page_json = script.string.split(' = ', 1)[1].rstrip(';')\n",
    "data = json.loads(page_json)"
   ]
  },
  {
   "cell_type": "code",
   "execution_count": null,
   "id": "dfd40603",
   "metadata": {},
   "outputs": [],
   "source": [
    "# call the data variable/ has the desired output. Has info about posts such as username, fullnme, follow count, location(if availabe)\n",
    "# url of post,\n",
    "data"
   ]
  }
 ],
 "metadata": {
  "kernelspec": {
   "display_name": "Python 3",
   "language": "python",
   "name": "python3"
  },
  "language_info": {
   "codemirror_mode": {
    "name": "ipython",
    "version": 3
   },
   "file_extension": ".py",
   "mimetype": "text/x-python",
   "name": "python",
   "nbconvert_exporter": "python",
   "pygments_lexer": "ipython3",
   "version": "3.8.8"
  }
 },
 "nbformat": 4,
 "nbformat_minor": 5
}
