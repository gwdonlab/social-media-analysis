{
 "cells": [
  {
   "cell_type": "code",
   "execution_count": null,
   "metadata": {},
   "outputs": [],
   "source": [
    "## Importing all required packages\n",
    "\n",
    "import requests\n",
    "import json\n",
    "import pandas as pd\n",
    "import re\n",
    "from yarl import URL\n",
    "import numpy as np\n",
    "import validators\n",
    "import graphistry\n",
    "from faker import Faker"
   ]
  },
  {
   "cell_type": "code",
   "execution_count": null,
   "metadata": {},
   "outputs": [],
   "source": [
    "## CHANGE HERE\n",
    "\n",
    "## reading the csv file that is exported using the \"DiscordChatExporter\" application\n",
    "\n",
    "filename = \"\"\n",
    "#Data = pd.read_csv(filename)\n"
   ]
  },
  {
   "cell_type": "code",
   "execution_count": null,
   "metadata": {},
   "outputs": [],
   "source": [
    "### Function for identifying if a url exists within a message.\n",
    "def Find(string):\n",
    "  \n",
    "    # findall() has been used \n",
    "    # with valid conditions for urls in string\n",
    "    regex = r\"(?i)\\b((?:https?://|www\\d{0,3}[.]|[a-z0-9.\\-]+[.][a-z]{2,4}/)(?:[^\\s()<>]+|\\(([^\\s()<>]+|(\\([^\\s()<>]+\\)))*\\))+(?:\\(([^\\s()<>]+|(\\([^\\s()<>]+\\)))*\\)|[^\\s`!()\\[\\]{};:'\\\".,<>?«»“”‘’]))\"\n",
    "    url = re.findall(regex,string)      \n",
    "    return [x[0] for x in url]\n",
    "\n",
    "\n",
    "\n",
    "### Function to identify if its a url and returns true or false\n",
    "def isUrlValid(url):\n",
    "    return True if validators.url(url) else False\n"
   ]
  },
  {
   "cell_type": "code",
   "execution_count": null,
   "metadata": {},
   "outputs": [],
   "source": [
    "## creating a new column which extract only the url from the message\n",
    "Data['isURLValid'] = Data['Content'].apply(Find)\n"
   ]
  },
  {
   "cell_type": "code",
   "execution_count": null,
   "metadata": {},
   "outputs": [],
   "source": [
    "## converting list to a string\n",
    "for index in range(len(Data)):   \n",
    "   Data.loc[index,'isURLValid']=''.join(Data.loc[index,'isURLValid'])\n",
    "  "
   ]
  },
  {
   "cell_type": "code",
   "execution_count": null,
   "metadata": {},
   "outputs": [],
   "source": [
    "### Creating a column to true or false if it detects a url\n",
    "Data['Flag'] = Data['isURLValid'].apply(isUrlValid)\n"
   ]
  },
  {
   "cell_type": "code",
   "execution_count": null,
   "metadata": {},
   "outputs": [],
   "source": [
    "### selecting records with only links\n",
    "Data_links = Data[Data['Flag']==1] \n"
   ]
  },
  {
   "cell_type": "code",
   "execution_count": null,
   "metadata": {},
   "outputs": [],
   "source": [
    "Data_links[\"Host_name\"] = Data_links[\"isURLValid\"].apply(lambda url: URL(url))\n"
   ]
  },
  {
   "cell_type": "code",
   "execution_count": null,
   "metadata": {},
   "outputs": [],
   "source": [
    "processed = Data_links.assign(\n",
    "    host=Data_links.Host_name.apply(lambda url: url.host),\n",
    "    #path=Data_links.content.apply(lambda url: content.path), \n",
    "    #name=Data_links.content.apply(lambda url: content.name),\n",
    "    ###query=Data_links.content.apply(lambda url: content.query_string),\n",
    ")\n",
    "processed"
   ]
  },
  {
   "cell_type": "code",
   "execution_count": null,
   "metadata": {},
   "outputs": [],
   "source": [
    "# Group by the columns author_name and host and get the count\n",
    "group = processed.groupby([\"Author\",\"host\"]).agg(count=(\"Host_name\",\"count\"))\n",
    "group\n",
    "\n",
    "# Get the top 5 most popular hosts for each type\n",
    "sorted_group = group.sort_values(by=\"count\", ascending=False).reset_index()\n",
    "largest = sorted_group.groupby(\"Author\").head(5).sort_values(by='Author')\n",
    "largest\n"
   ]
  },
  {
   "cell_type": "code",
   "execution_count": null,
   "metadata": {},
   "outputs": [],
   "source": [
    "#To use PyGraphistry, sign up on the website for a free account then register using the account you have just created:\n",
    "# https://hub.graphistry.com/\n",
    "    \n",
    "## CHANGE HERE\n",
    "\n",
    "graphistry.register(api=3, username='', password='')"
   ]
  },
  {
   "cell_type": "code",
   "execution_count": null,
   "metadata": {},
   "outputs": [],
   "source": [
    "#To create a graph with PyGraphistry, we need edges and nodes. Start with creating edges:\n",
    "\n",
    "edges = largest[[\"Author\", \"host\"]]\n",
    "edges"
   ]
  },
  {
   "cell_type": "code",
   "execution_count": null,
   "metadata": {},
   "outputs": [],
   "source": [
    "## creating nodes\n",
    "\"\"\"Create a node DataFrame for a specific column\"\"\"\n",
    "def create_node_df(df: pd.DataFrame, col_name: str):\n",
    "    nodes = (\n",
    "        df[[col_name]]\n",
    "        .assign(type=col_name)\n",
    "        .rename(columns={col_name: \"node\"})\n",
    "        .drop_duplicates()\n",
    "    )\n",
    "    return nodes\n",
    "\n",
    "type_nodes = create_node_df(largest, \"Author\")\n",
    "url_nodes = create_node_df(largest, \"host\")\n",
    "nodes = pd.concat([type_nodes, url_nodes])\n",
    "nodes\n",
    "\n",
    "g = (\n",
    "    graphistry\n",
    "    .edges(edges, \"Author\", \"host\")\n",
    "    .nodes(nodes, \"node\")\n",
    ")\n",
    "\n",
    "g.plot()"
   ]
  },
  {
   "cell_type": "code",
   "execution_count": null,
   "metadata": {},
   "outputs": [],
   "source": [
    "## create different colors for different node\n",
    "\n",
    "types = list(edges.Author.unique())\n",
    "\n",
    "fake = Faker()\n",
    "colors = [fake.color() for _ in range(len(types))]\n",
    "node_color_mapping = dict(zip(types, colors))\n",
    "node_color_mapping"
   ]
  },
  {
   "cell_type": "code",
   "execution_count": null,
   "metadata": {},
   "outputs": [],
   "source": [
    "#assign different node types with different icons\n",
    "\n",
    "node_icon_mapping = {\"host\": \"link\", \"Author\": \"newspaper-o\"}"
   ]
  },
  {
   "cell_type": "code",
   "execution_count": null,
   "metadata": {},
   "outputs": [],
   "source": [
    "## add color mapping and node mapping to our graph\n",
    "g = (\n",
    "    graphistry.edges(edges, \"Author\", \"host\")\n",
    "    .nodes(nodes, \"node\")\n",
    "    .encode_point_color(\n",
    "        \"node\", categorical_mapping=node_color_mapping, default_mapping=\"silver\"\n",
    "    )\n",
    "    .encode_point_icon(\n",
    "        \"Author\", categorical_mapping=node_icon_mapping\n",
    "    )\n",
    ")\n",
    "\n",
    "g.plot()"
   ]
  }
 ],
 "metadata": {
  "kernelspec": {
   "display_name": "Python 3",
   "language": "python",
   "name": "python3"
  },
  "language_info": {
   "codemirror_mode": {
    "name": "ipython",
    "version": 3
   },
   "file_extension": ".py",
   "mimetype": "text/x-python",
   "name": "python",
   "nbconvert_exporter": "python",
   "pygments_lexer": "ipython3",
   "version": "3.8.5"
  }
 },
 "nbformat": 4,
 "nbformat_minor": 4
}
