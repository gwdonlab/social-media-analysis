{
 "cells": [
  {
   "cell_type": "code",
   "execution_count": 7,
   "metadata": {},
   "outputs": [],
   "source": [
    "## Importing all required packages\n",
    "\n",
    "import requests\n",
    "import json\n",
    "import pandas as pd\n",
    "import re\n",
    "from yarl import URL\n",
    "import numpy as np\n",
    "import validators\n",
    "import graphistry\n",
    "from faker import Faker"
   ]
  },
  {
   "cell_type": "code",
   "execution_count": 8,
   "metadata": {},
   "outputs": [],
   "source": [
    "## CHANGE HERE\n",
    "\n",
    "## reading the csv file that is exported using the \"DiscordChatExporter\" application\n",
    "\n",
    "filename = \"\"\n",
    "#Data = pd.read_csv(filename)\n"
   ]
  },
  {
   "cell_type": "code",
   "execution_count": 9,
   "metadata": {},
   "outputs": [],
   "source": [
    "### Function for identifying if a url exists within a message.\n",
    "def Find(string):\n",
    "  \n",
    "    # findall() has been used \n",
    "    # with valid conditions for urls in string\n",
    "    regex = r\"(?i)\\b((?:https?://|www\\d{0,3}[.]|[a-z0-9.\\-]+[.][a-z]{2,4}/)(?:[^\\s()<>]+|\\(([^\\s()<>]+|(\\([^\\s()<>]+\\)))*\\))+(?:\\(([^\\s()<>]+|(\\([^\\s()<>]+\\)))*\\)|[^\\s`!()\\[\\]{};:'\\\".,<>?«»“”‘’]))\"\n",
    "    url = re.findall(regex,string)      \n",
    "    return [x[0] for x in url]\n",
    "\n",
    "\n",
    "\n",
    "### Function to identify if its a url and returns true or false\n",
    "def isUrlValid(url):\n",
    "    return True if validators.url(url) else False\n"
   ]
  },
  {
   "cell_type": "code",
   "execution_count": null,
   "metadata": {},
   "outputs": [],
   "source": [
    "## creating a new column which extract only the url from the message\n",
    "Data['isURLValid'] = Data['Content'].apply(Find)\n"
   ]
  },
  {
   "cell_type": "code",
   "execution_count": 5,
   "metadata": {},
   "outputs": [],
   "source": [
    "## converting list to a string\n",
    "for index in range(len(Data)):   \n",
    "   Data.loc[index,'isURLValid']=''.join(Data.loc[index,'isURLValid'])\n",
    "  "
   ]
  },
  {
   "cell_type": "code",
   "execution_count": 6,
   "metadata": {},
   "outputs": [],
   "source": [
    "### Creating a column to true or false if it detects a url\n",
    "Data['Flag'] = Data['isURLValid'].apply(isUrlValid)\n"
   ]
  },
  {
   "cell_type": "code",
   "execution_count": 7,
   "metadata": {},
   "outputs": [],
   "source": [
    "### selecting records with only links\n",
    "Data_links = Data[Data['Flag']==1] \n"
   ]
  },
  {
   "cell_type": "code",
   "execution_count": 12,
   "metadata": {},
   "outputs": [
    {
     "name": "stderr",
     "output_type": "stream",
     "text": [
      "<ipython-input-12-cf34db24948b>:1: SettingWithCopyWarning: \n",
      "A value is trying to be set on a copy of a slice from a DataFrame.\n",
      "Try using .loc[row_indexer,col_indexer] = value instead\n",
      "\n",
      "See the caveats in the documentation: https://pandas.pydata.org/pandas-docs/stable/user_guide/indexing.html#returning-a-view-versus-a-copy\n",
      "  Data_links[\"Host_name\"] = Data_links[\"isURLValid\"].apply(lambda url: URL(url))\n"
     ]
    }
   ],
   "source": [
    "Data_links[\"Host_name\"] = Data_links[\"isURLValid\"].apply(lambda url: URL(url))\n"
   ]
  },
  {
   "cell_type": "code",
   "execution_count": null,
   "metadata": {},
   "outputs": [],
   "source": [
    "processed = Data_links.assign(\n",
    "    host=Data_links.Host_name.apply(lambda url: url.host),\n",
    "    #path=Data_links.content.apply(lambda url: content.path), \n",
    "    #name=Data_links.content.apply(lambda url: content.name),\n",
    "    ###query=Data_links.content.apply(lambda url: content.query_string),\n",
    ")\n",
    "processed"
   ]
  },
  {
   "cell_type": "code",
   "execution_count": 15,
   "metadata": {},
   "outputs": [
    {
     "data": {
      "text/html": [
       "<div>\n",
       "<style scoped>\n",
       "    .dataframe tbody tr th:only-of-type {\n",
       "        vertical-align: middle;\n",
       "    }\n",
       "\n",
       "    .dataframe tbody tr th {\n",
       "        vertical-align: top;\n",
       "    }\n",
       "\n",
       "    .dataframe thead th {\n",
       "        text-align: right;\n",
       "    }\n",
       "</style>\n",
       "<table border=\"1\" class=\"dataframe\">\n",
       "  <thead>\n",
       "    <tr style=\"text-align: right;\">\n",
       "      <th></th>\n",
       "      <th>Author</th>\n",
       "      <th>host</th>\n",
       "      <th>count</th>\n",
       "    </tr>\n",
       "  </thead>\n",
       "  <tbody>\n",
       "    <tr>\n",
       "      <th>2</th>\n",
       "      <td>Peep Poop#9289</td>\n",
       "      <td>github.com</td>\n",
       "      <td>2</td>\n",
       "    </tr>\n",
       "    <tr>\n",
       "      <th>3</th>\n",
       "      <td>Peep Poop#9289</td>\n",
       "      <td>gilberttanner.com</td>\n",
       "      <td>1</td>\n",
       "    </tr>\n",
       "    <tr>\n",
       "      <th>20</th>\n",
       "      <td>Peep Poop#9289</td>\n",
       "      <td>www.kaggle.com</td>\n",
       "      <td>1</td>\n",
       "    </tr>\n",
       "    <tr>\n",
       "      <th>0</th>\n",
       "      <td>TORODIAL#2114</td>\n",
       "      <td>www.analyticsvidhya.com</td>\n",
       "      <td>2</td>\n",
       "    </tr>\n",
       "    <tr>\n",
       "      <th>14</th>\n",
       "      <td>TORODIAL#2114</td>\n",
       "      <td>www.kaggle.com</td>\n",
       "      <td>1</td>\n",
       "    </tr>\n",
       "    <tr>\n",
       "      <th>15</th>\n",
       "      <td>TORODIAL#2114</td>\n",
       "      <td>www.geeksforgeeks.org</td>\n",
       "      <td>1</td>\n",
       "    </tr>\n",
       "    <tr>\n",
       "      <th>16</th>\n",
       "      <td>TORODIAL#2114</td>\n",
       "      <td>web.whatsapp.com</td>\n",
       "      <td>1</td>\n",
       "    </tr>\n",
       "    <tr>\n",
       "      <th>17</th>\n",
       "      <td>TORODIAL#2114</td>\n",
       "      <td>towardsdatascience.com</td>\n",
       "      <td>1</td>\n",
       "    </tr>\n",
       "    <tr>\n",
       "      <th>1</th>\n",
       "      <td>rohanthekanath93#5978</td>\n",
       "      <td>twitter.com</td>\n",
       "      <td>2</td>\n",
       "    </tr>\n",
       "    <tr>\n",
       "      <th>4</th>\n",
       "      <td>rohanthekanath93#5978</td>\n",
       "      <td>streamlit.io</td>\n",
       "      <td>1</td>\n",
       "    </tr>\n",
       "    <tr>\n",
       "      <th>5</th>\n",
       "      <td>rohanthekanath93#5978</td>\n",
       "      <td>www.udemy.com</td>\n",
       "      <td>1</td>\n",
       "    </tr>\n",
       "    <tr>\n",
       "      <th>6</th>\n",
       "      <td>rohanthekanath93#5978</td>\n",
       "      <td>www.silota.com</td>\n",
       "      <td>1</td>\n",
       "    </tr>\n",
       "    <tr>\n",
       "      <th>7</th>\n",
       "      <td>rohanthekanath93#5978</td>\n",
       "      <td>www.netflix.com</td>\n",
       "      <td>1</td>\n",
       "    </tr>\n",
       "  </tbody>\n",
       "</table>\n",
       "</div>"
      ],
      "text/plain": [
       "                   Author                     host  count\n",
       "2          Peep Poop#9289               github.com      2\n",
       "3          Peep Poop#9289        gilberttanner.com      1\n",
       "20         Peep Poop#9289           www.kaggle.com      1\n",
       "0           TORODIAL#2114  www.analyticsvidhya.com      2\n",
       "14          TORODIAL#2114           www.kaggle.com      1\n",
       "15          TORODIAL#2114    www.geeksforgeeks.org      1\n",
       "16          TORODIAL#2114         web.whatsapp.com      1\n",
       "17          TORODIAL#2114   towardsdatascience.com      1\n",
       "1   rohanthekanath93#5978              twitter.com      2\n",
       "4   rohanthekanath93#5978             streamlit.io      1\n",
       "5   rohanthekanath93#5978            www.udemy.com      1\n",
       "6   rohanthekanath93#5978           www.silota.com      1\n",
       "7   rohanthekanath93#5978          www.netflix.com      1"
      ]
     },
     "execution_count": 15,
     "metadata": {},
     "output_type": "execute_result"
    }
   ],
   "source": [
    "# Group by the columns author_name and host and get the count\n",
    "group = processed.groupby([\"Author\",\"host\"]).agg(count=(\"Host_name\",\"count\"))\n",
    "group\n",
    "\n",
    "# Get the top 5 most popular hosts for each type\n",
    "sorted_group = group.sort_values(by=\"count\", ascending=False).reset_index()\n",
    "largest = sorted_group.groupby(\"Author\").head(5).sort_values(by='Author')\n",
    "largest\n"
   ]
  },
  {
   "cell_type": "code",
   "execution_count": 16,
   "metadata": {},
   "outputs": [],
   "source": [
    "#To use PyGraphistry, sign up on the website for a free account then register using the account you have just created:\n",
    "# https://hub.graphistry.com/\n",
    "    \n",
    "## CHANGE HERE\n",
    "\n",
    "graphistry.register(api=3, username='', password='')"
   ]
  },
  {
   "cell_type": "code",
   "execution_count": 17,
   "metadata": {},
   "outputs": [
    {
     "data": {
      "text/html": [
       "<div>\n",
       "<style scoped>\n",
       "    .dataframe tbody tr th:only-of-type {\n",
       "        vertical-align: middle;\n",
       "    }\n",
       "\n",
       "    .dataframe tbody tr th {\n",
       "        vertical-align: top;\n",
       "    }\n",
       "\n",
       "    .dataframe thead th {\n",
       "        text-align: right;\n",
       "    }\n",
       "</style>\n",
       "<table border=\"1\" class=\"dataframe\">\n",
       "  <thead>\n",
       "    <tr style=\"text-align: right;\">\n",
       "      <th></th>\n",
       "      <th>Author</th>\n",
       "      <th>host</th>\n",
       "    </tr>\n",
       "  </thead>\n",
       "  <tbody>\n",
       "    <tr>\n",
       "      <th>2</th>\n",
       "      <td>Peep Poop#9289</td>\n",
       "      <td>github.com</td>\n",
       "    </tr>\n",
       "    <tr>\n",
       "      <th>3</th>\n",
       "      <td>Peep Poop#9289</td>\n",
       "      <td>gilberttanner.com</td>\n",
       "    </tr>\n",
       "    <tr>\n",
       "      <th>20</th>\n",
       "      <td>Peep Poop#9289</td>\n",
       "      <td>www.kaggle.com</td>\n",
       "    </tr>\n",
       "    <tr>\n",
       "      <th>0</th>\n",
       "      <td>TORODIAL#2114</td>\n",
       "      <td>www.analyticsvidhya.com</td>\n",
       "    </tr>\n",
       "    <tr>\n",
       "      <th>14</th>\n",
       "      <td>TORODIAL#2114</td>\n",
       "      <td>www.kaggle.com</td>\n",
       "    </tr>\n",
       "    <tr>\n",
       "      <th>15</th>\n",
       "      <td>TORODIAL#2114</td>\n",
       "      <td>www.geeksforgeeks.org</td>\n",
       "    </tr>\n",
       "    <tr>\n",
       "      <th>16</th>\n",
       "      <td>TORODIAL#2114</td>\n",
       "      <td>web.whatsapp.com</td>\n",
       "    </tr>\n",
       "    <tr>\n",
       "      <th>17</th>\n",
       "      <td>TORODIAL#2114</td>\n",
       "      <td>towardsdatascience.com</td>\n",
       "    </tr>\n",
       "    <tr>\n",
       "      <th>1</th>\n",
       "      <td>rohanthekanath93#5978</td>\n",
       "      <td>twitter.com</td>\n",
       "    </tr>\n",
       "    <tr>\n",
       "      <th>4</th>\n",
       "      <td>rohanthekanath93#5978</td>\n",
       "      <td>streamlit.io</td>\n",
       "    </tr>\n",
       "    <tr>\n",
       "      <th>5</th>\n",
       "      <td>rohanthekanath93#5978</td>\n",
       "      <td>www.udemy.com</td>\n",
       "    </tr>\n",
       "    <tr>\n",
       "      <th>6</th>\n",
       "      <td>rohanthekanath93#5978</td>\n",
       "      <td>www.silota.com</td>\n",
       "    </tr>\n",
       "    <tr>\n",
       "      <th>7</th>\n",
       "      <td>rohanthekanath93#5978</td>\n",
       "      <td>www.netflix.com</td>\n",
       "    </tr>\n",
       "  </tbody>\n",
       "</table>\n",
       "</div>"
      ],
      "text/plain": [
       "                   Author                     host\n",
       "2          Peep Poop#9289               github.com\n",
       "3          Peep Poop#9289        gilberttanner.com\n",
       "20         Peep Poop#9289           www.kaggle.com\n",
       "0           TORODIAL#2114  www.analyticsvidhya.com\n",
       "14          TORODIAL#2114           www.kaggle.com\n",
       "15          TORODIAL#2114    www.geeksforgeeks.org\n",
       "16          TORODIAL#2114         web.whatsapp.com\n",
       "17          TORODIAL#2114   towardsdatascience.com\n",
       "1   rohanthekanath93#5978              twitter.com\n",
       "4   rohanthekanath93#5978             streamlit.io\n",
       "5   rohanthekanath93#5978            www.udemy.com\n",
       "6   rohanthekanath93#5978           www.silota.com\n",
       "7   rohanthekanath93#5978          www.netflix.com"
      ]
     },
     "execution_count": 17,
     "metadata": {},
     "output_type": "execute_result"
    }
   ],
   "source": [
    "#To create a graph with PyGraphistry, we need edges and nodes. Start with creating edges:\n",
    "\n",
    "edges = largest[[\"Author\", \"host\"]]\n",
    "edges"
   ]
  },
  {
   "cell_type": "code",
   "execution_count": 19,
   "metadata": {},
   "outputs": [
    {
     "data": {
      "text/html": [
       "\n",
       "            <iframe id=\"ae5b5c2d-1d51-4c39-9c72-f58202a2840d\" src=\"https://hub.graphistry.com/graph/graph.html?dataset=e7ed03e2fc20468287420928010e080e&type=arrow&viztoken=c0dd9162-804f-4cdc-b0fa-7a51331c8a92&usertag=135a04d0-pygraphistry-0.23.2&splashAfter=1651261456&info=true\"\n",
       "                    allowfullscreen=\"true\" webkitallowfullscreen=\"true\" mozallowfullscreen=\"true\"\n",
       "                    oallowfullscreen=\"true\" msallowfullscreen=\"true\"\n",
       "                    style=\"width:100%; height:500px; border: 1px solid #DDD; overflow: hidden\"\n",
       "                    \n",
       "            >\n",
       "            </iframe>\n",
       "        \n",
       "            <script>\n",
       "                try {\n",
       "                  $(\"#ae5b5c2d-1d51-4c39-9c72-f58202a2840d\").bind('mousewheel', function(e) { e.preventDefault(); });\n",
       "                } catch (e) { console.error('exn catching scroll', e); }\n",
       "            </script>\n",
       "        "
      ],
      "text/plain": [
       "<IPython.core.display.HTML object>"
      ]
     },
     "execution_count": 19,
     "metadata": {},
     "output_type": "execute_result"
    }
   ],
   "source": [
    "## creating nodes\n",
    "\"\"\"Create a node DataFrame for a specific column\"\"\"\n",
    "def create_node_df(df: pd.DataFrame, col_name: str):\n",
    "    nodes = (\n",
    "        df[[col_name]]\n",
    "        .assign(type=col_name)\n",
    "        .rename(columns={col_name: \"node\"})\n",
    "        .drop_duplicates()\n",
    "    )\n",
    "    return nodes\n",
    "\n",
    "type_nodes = create_node_df(largest, \"Author\")\n",
    "url_nodes = create_node_df(largest, \"host\")\n",
    "nodes = pd.concat([type_nodes, url_nodes])\n",
    "nodes\n",
    "\n",
    "g = (\n",
    "    graphistry\n",
    "    .edges(edges, \"Author\", \"host\")\n",
    "    .nodes(nodes, \"node\")\n",
    ")\n",
    "\n",
    "g.plot()"
   ]
  },
  {
   "cell_type": "code",
   "execution_count": 24,
   "metadata": {},
   "outputs": [
    {
     "data": {
      "text/plain": [
       "{'Peep Poop#9289': '#28019e',\n",
       " 'TORODIAL#2114': '#b1deed',\n",
       " 'rohanthekanath93#5978': '#675ec1'}"
      ]
     },
     "execution_count": 24,
     "metadata": {},
     "output_type": "execute_result"
    }
   ],
   "source": [
    "## create different colors for different node\n",
    "\n",
    "types = list(edges.Author.unique())\n",
    "\n",
    "fake = Faker()\n",
    "colors = [fake.color() for _ in range(len(types))]\n",
    "node_color_mapping = dict(zip(types, colors))\n",
    "node_color_mapping"
   ]
  },
  {
   "cell_type": "code",
   "execution_count": 25,
   "metadata": {},
   "outputs": [],
   "source": [
    "#assign different node types with different icons\n",
    "\n",
    "node_icon_mapping = {\"host\": \"link\", \"Author\": \"newspaper-o\"}"
   ]
  },
  {
   "cell_type": "code",
   "execution_count": null,
   "metadata": {},
   "outputs": [],
   "source": [
    "## add color mapping and node mapping to our graph\n",
    "g = (\n",
    "    graphistry.edges(edges, \"Author\", \"host\")\n",
    "    .nodes(nodes, \"node\")\n",
    "    .encode_point_color(\n",
    "        \"node\", categorical_mapping=node_color_mapping, default_mapping=\"silver\"\n",
    "    )\n",
    "    .encode_point_icon(\n",
    "        \"Author\", categorical_mapping=node_icon_mapping\n",
    "    )\n",
    ")\n",
    "\n",
    "g.plot()"
   ]
  }
 ],
 "metadata": {
  "kernelspec": {
   "display_name": "Python 3",
   "language": "python",
   "name": "python3"
  },
  "language_info": {
   "codemirror_mode": {
    "name": "ipython",
    "version": 3
   },
   "file_extension": ".py",
   "mimetype": "text/x-python",
   "name": "python",
   "nbconvert_exporter": "python",
   "pygments_lexer": "ipython3",
   "version": "3.8.5"
  }
 },
 "nbformat": 4,
 "nbformat_minor": 4
}
